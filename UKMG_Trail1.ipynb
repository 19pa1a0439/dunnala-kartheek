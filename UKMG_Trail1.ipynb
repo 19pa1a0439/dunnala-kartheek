{
  "nbformat": 4,
  "nbformat_minor": 0,
  "metadata": {
    "colab": {
      "name": "UKMG#Trail1.ipynb",
      "provenance": [],
      "collapsed_sections": [],
      "toc_visible": true,
      "include_colab_link": true
    },
    "kernelspec": {
      "name": "python3",
      "display_name": "Python 3"
    }
  },
  "cells": [
    {
      "cell_type": "markdown",
      "metadata": {
        "id": "view-in-github",
        "colab_type": "text"
      },
      "source": [
        "<a href=\"https://colab.research.google.com/github/19pa1a0441/dunnala-kartheek/blob/master/UKMG_Trail1.ipynb\" target=\"_parent\"><img src=\"https://colab.research.google.com/assets/colab-badge.svg\" alt=\"Open In Colab\"/></a>"
      ]
    },
    {
      "cell_type": "markdown",
      "metadata": {
        "id": "lNLLbdveoOy0",
        "colab_type": "text"
      },
      "source": [
        "# **Introduction:**\n",
        " The dataset choosen in below gives the information regarding  sucide rates overview from 1985 to 2016 in different nations."
      ]
    },
    {
      "cell_type": "markdown",
      "metadata": {
        "id": "bqBtMMn0rtL6",
        "colab_type": "text"
      },
      "source": [
        "## **variables :** \n",
        "1. **country** - This coloumn consists of nations from which                  we collected the sucide information .\n",
        "2. **year** - The information present in this coloumn is in which year the sucides are took place(1985 -2016).\n",
        "3. **sex**- This coloumn is about gender.(male or female)\n",
        "4. **age**- The age group of people who committed sucides.\n",
        "5. **suscide number** - Number people committed sucide in a  year .\n",
        "6. **population**- Total population of that nation.\n",
        "7.sucides per 100k population - number of sucides took place per 100k people .\n",
        "8.**country-year**- Sucides occured in particular nation in a year \n",
        "9.**HDI for year**- It describes overall achievement of nation in its social and economic dimensions (HDI - human development index )\n",
        "10.**GDP for year** - (Gross domestic product (GDP)) is a monetary measure of the market value of all the final goods and services produced in a year by that nation.\n",
        "GDP per capita - GDP per capita is a measure of a country's economic output That accounts for its number of people .\n",
        "11.**generation** - This coloumn describes about the generation of the sucide committed people ."
      ]
    },
    {
      "cell_type": "code",
      "metadata": {
        "id": "tfdlcAoq7G7w",
        "colab_type": "code",
        "colab": {}
      },
      "source": [
        ""
      ],
      "execution_count": 0,
      "outputs": []
    },
    {
      "cell_type": "markdown",
      "metadata": {
        "id": "hxLmB_ZU7II5",
        "colab_type": "text"
      },
      "source": [
        ""
      ]
    },
    {
      "cell_type": "markdown",
      "metadata": {
        "id": "GWZpTHjg2gBf",
        "colab_type": "text"
      },
      "source": [
        "## **pandas dataframe :**"
      ]
    },
    {
      "cell_type": "code",
      "metadata": {
        "id": "vayLz95b2tuv",
        "colab_type": "code",
        "colab": {}
      },
      "source": [
        "# importing pandas \n",
        "   import pandas as pd\n"
      ],
      "execution_count": 0,
      "outputs": []
    },
    {
      "cell_type": "markdown",
      "metadata": {
        "id": "-7YZ7t953Akv",
        "colab_type": "text"
      },
      "source": [
        "# **Reading data :**"
      ]
    },
    {
      "cell_type": "code",
      "metadata": {
        "id": "LfeqzlKh3SE2",
        "colab_type": "code",
        "colab": {}
      },
      "source": [
        "# read data from csv file\n",
        "data= pd.read_csv(\"/content/suicide-rates-overview-1985-to-2016.zip\")\n",
        "print(data)"
      ],
      "execution_count": 0,
      "outputs": []
    },
    {
      "cell_type": "code",
      "metadata": {
        "id": "pikAnnngDyZ4",
        "colab_type": "code",
        "colab": {}
      },
      "source": [
        "# cleaning data (by deleting the columns having NAN values)\n",
        "oops=data.dropna(axis=1)\n",
        "oops\n"
      ],
      "execution_count": 0,
      "outputs": []
    },
    {
      "cell_type": "markdown",
      "metadata": {
        "id": "D7FoT4Rb7xwW",
        "colab_type": "text"
      },
      "source": [
        "# **checking data dimensions :**"
      ]
    },
    {
      "cell_type": "code",
      "metadata": {
        "id": "O4R6Ewyd7-Eo",
        "colab_type": "code",
        "outputId": "e29b5e09-469a-4965-fa27-ca2a8f82d767",
        "colab": {
          "base_uri": "https://localhost:8080/",
          "height": 34
        }
      },
      "source": [
        "# using shape method on data frame \n",
        "print(oops.shape)"
      ],
      "execution_count": 0,
      "outputs": [
        {
          "output_type": "stream",
          "text": [
            "(27820, 11)\n"
          ],
          "name": "stdout"
        }
      ]
    },
    {
      "cell_type": "markdown",
      "metadata": {
        "id": "NpPYo9XF8ejL",
        "colab_type": "text"
      },
      "source": [
        "#**Data inspection** :\n"
      ]
    },
    {
      "cell_type": "code",
      "metadata": {
        "id": "Z4nuzUpi9McA",
        "colab_type": "code",
        "outputId": "a07b9964-b6fa-487d-a013-bdfa51917511",
        "colab": {
          "base_uri": "https://localhost:8080/",
          "height": 153
        }
      },
      "source": [
        "#getting top 5 rows using head method\n",
        "print(oops.head(5))"
      ],
      "execution_count": 0,
      "outputs": [
        {
          "output_type": "stream",
          "text": [
            "   country  year  ... gdp_per_capita ($)       generation\n",
            "0  Albania  1987  ...                796     Generation X\n",
            "1  Albania  1987  ...                796           Silent\n",
            "2  Albania  1987  ...                796     Generation X\n",
            "3  Albania  1987  ...                796  G.I. Generation\n",
            "4  Albania  1987  ...                796          Boomers\n",
            "\n",
            "[5 rows x 11 columns]\n"
          ],
          "name": "stdout"
        }
      ]
    },
    {
      "cell_type": "code",
      "metadata": {
        "id": "UEd_aB3A9hMf",
        "colab_type": "code",
        "outputId": "a18e6d41-cce7-428e-96b0-141c5e986a7e",
        "colab": {
          "base_uri": "https://localhost:8080/",
          "height": 163
        }
      },
      "source": [
        "# getting last 5 rows using tail method \n",
        "oops.tail(5)"
      ],
      "execution_count": 0,
      "outputs": [
        {
          "output_type": "error",
          "ename": "NameError",
          "evalue": "ignored",
          "traceback": [
            "\u001b[0;31m---------------------------------------------------------------------------\u001b[0m",
            "\u001b[0;31mNameError\u001b[0m                                 Traceback (most recent call last)",
            "\u001b[0;32m<ipython-input-12-0be47d2960f8>\u001b[0m in \u001b[0;36m<module>\u001b[0;34m()\u001b[0m\n\u001b[0;32m----> 1\u001b[0;31m \u001b[0moops\u001b[0m\u001b[0;34m.\u001b[0m\u001b[0mtail\u001b[0m\u001b[0;34m(\u001b[0m\u001b[0;36m5\u001b[0m\u001b[0;34m)\u001b[0m\u001b[0;34m\u001b[0m\u001b[0;34m\u001b[0m\u001b[0m\n\u001b[0m",
            "\u001b[0;31mNameError\u001b[0m: name 'oops' is not defined"
          ]
        }
      ]
    },
    {
      "cell_type": "code",
      "metadata": {
        "id": "-1CgOdjH--nl",
        "colab_type": "code",
        "outputId": "0d68dbce-c126-49e6-beaa-34d1314d00ca",
        "colab": {
          "base_uri": "https://localhost:8080/",
          "height": 163
        }
      },
      "source": [
        "# data type of each coloumn\n",
        "print(oops.dtypes)"
      ],
      "execution_count": 0,
      "outputs": [
        {
          "output_type": "error",
          "ename": "NameError",
          "evalue": "ignored",
          "traceback": [
            "\u001b[0;31m---------------------------------------------------------------------------\u001b[0m",
            "\u001b[0;31mNameError\u001b[0m                                 Traceback (most recent call last)",
            "\u001b[0;32m<ipython-input-13-4398a19f986a>\u001b[0m in \u001b[0;36m<module>\u001b[0;34m()\u001b[0m\n\u001b[0;32m----> 1\u001b[0;31m \u001b[0mprint\u001b[0m\u001b[0;34m(\u001b[0m\u001b[0moops\u001b[0m\u001b[0;34m.\u001b[0m\u001b[0mdtypes\u001b[0m\u001b[0;34m)\u001b[0m\u001b[0;34m\u001b[0m\u001b[0;34m\u001b[0m\u001b[0m\n\u001b[0m",
            "\u001b[0;31mNameError\u001b[0m: name 'oops' is not defined"
          ]
        }
      ]
    },
    {
      "cell_type": "code",
      "metadata": {
        "id": "hsT7af-S_JTo",
        "colab_type": "code",
        "outputId": "1fa2266c-23d7-477b-eac4-cbd4e906c2f7",
        "colab": {
          "base_uri": "https://localhost:8080/",
          "height": 85
        }
      },
      "source": [
        "# accessing  column names\n",
        "print(data.columns)"
      ],
      "execution_count": 0,
      "outputs": [
        {
          "output_type": "stream",
          "text": [
            "Index(['country', 'year', 'sex', 'age', 'suicides_no', 'population',\n",
            "       'suicides/100k pop', 'country-year', 'HDI for year',\n",
            "       ' gdp_for_year ($) ', 'gdp_per_capita ($)', 'generation'],\n",
            "      dtype='object')\n"
          ],
          "name": "stdout"
        }
      ]
    },
    {
      "cell_type": "markdown",
      "metadata": {
        "id": "22x-SyACVl3R",
        "colab_type": "text"
      },
      "source": [
        "# **central tendency**"
      ]
    },
    {
      "cell_type": "code",
      "metadata": {
        "id": "DcStKr78Yjop",
        "colab_type": "code",
        "outputId": "f5650076-51f0-4ea3-b98c-635f2b5ed2aa",
        "colab": {
          "base_uri": "https://localhost:8080/",
          "height": 163
        }
      },
      "source": [
        "oops.hist(column=\"year\", by=\"population\")"
      ],
      "execution_count": 0,
      "outputs": [
        {
          "output_type": "error",
          "ename": "NameError",
          "evalue": "ignored",
          "traceback": [
            "\u001b[0;31m---------------------------------------------------------------------------\u001b[0m",
            "\u001b[0;31mNameError\u001b[0m                                 Traceback (most recent call last)",
            "\u001b[0;32m<ipython-input-1-2a56fcc5b8eb>\u001b[0m in \u001b[0;36m<module>\u001b[0;34m()\u001b[0m\n\u001b[0;32m----> 1\u001b[0;31m \u001b[0moops\u001b[0m\u001b[0;34m.\u001b[0m\u001b[0mhist\u001b[0m\u001b[0;34m(\u001b[0m\u001b[0mcolumn\u001b[0m\u001b[0;34m=\u001b[0m\u001b[0;34m\"year\"\u001b[0m\u001b[0;34m,\u001b[0m \u001b[0mby\u001b[0m\u001b[0;34m=\u001b[0m\u001b[0;34m\"population\"\u001b[0m\u001b[0;34m)\u001b[0m\u001b[0;34m\u001b[0m\u001b[0;34m\u001b[0m\u001b[0m\n\u001b[0m",
            "\u001b[0;31mNameError\u001b[0m: name 'oops' is not defined"
          ]
        }
      ]
    }
  ]
}