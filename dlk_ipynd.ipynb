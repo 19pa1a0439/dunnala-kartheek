{
  "nbformat": 4,
  "nbformat_minor": 0,
  "metadata": {
    "colab": {
      "name": "dlk.ipynd",
      "provenance": [],
      "authorship_tag": "ABX9TyN/EjRwijOdX8OuD0mBcnMf",
      "include_colab_link": true
    },
    "kernelspec": {
      "name": "python3",
      "display_name": "Python 3"
    }
  },
  "cells": [
    {
      "cell_type": "markdown",
      "metadata": {
        "id": "view-in-github",
        "colab_type": "text"
      },
      "source": [
        "<a href=\"https://colab.research.google.com/github/19pa1a0441/dunnala-kartheek/blob/master/dlk_ipynd.ipynb\" target=\"_parent\"><img src=\"https://colab.research.google.com/assets/colab-badge.svg\" alt=\"Open In Colab\"/></a>"
      ]
    },
    {
      "cell_type": "code",
      "metadata": {
        "id": "vUfuhnbdjyoG",
        "colab_type": "code",
        "colab": {
          "base_uri": "https://localhost:8080/",
          "height": 34
        },
        "outputId": "b7cc2a91-6cf2-4770-f8f1-a2470e9cffbc"
      },
      "source": [
        "a=45\n",
        "b=55\n",
        "if (a>b):\n",
        "  print(a,\"is big number\")\n",
        "else:\n",
        "  print(b,\"is big number\")  "
      ],
      "execution_count": 7,
      "outputs": [
        {
          "output_type": "stream",
          "text": [
            "55 is big number\n"
          ],
          "name": "stdout"
        }
      ]
    },
    {
      "cell_type": "code",
      "metadata": {
        "id": "YN6JBV5bkFQT",
        "colab_type": "code",
        "colab": {
          "base_uri": "https://localhost:8080/",
          "height": 102
        },
        "outputId": "240e0092-c2cd-4ec6-da36-70fdd15cd3b7"
      },
      "source": [
        "n=int(input(\"enter the range\"))\n",
        "for i in range(n):\n",
        "  if (i%2==0):\n",
        "    print(\"even numbers in the range\",i)\n",
        "  else:\n",
        "    print(\"odd numbers in the range\",i)"
      ],
      "execution_count": 15,
      "outputs": [
        {
          "output_type": "stream",
          "text": [
            "enter the range4\n",
            "even numbers in the range 0\n",
            "odd numbers in the range 1\n",
            "even numbers in the range 2\n",
            "odd numbers in the range 3\n"
          ],
          "name": "stdout"
        }
      ]
    },
    {
      "cell_type": "code",
      "metadata": {
        "id": "q1Kf-x5zlt5g",
        "colab_type": "code",
        "colab": {}
      },
      "source": [
        ""
      ],
      "execution_count": 0,
      "outputs": []
    }
  ]
}