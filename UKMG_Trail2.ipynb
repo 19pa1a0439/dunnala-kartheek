{
  "nbformat": 4,
  "nbformat_minor": 0,
  "metadata": {
    "colab": {
      "name": "UKMG#Trail2.ipynb",
      "provenance": [],
      "collapsed_sections": [],
      "toc_visible": true,
      "include_colab_link": true
    },
    "kernelspec": {
      "name": "python3",
      "display_name": "Python 3"
    }
  },
  "cells": [
    {
      "cell_type": "markdown",
      "metadata": {
        "id": "view-in-github",
        "colab_type": "text"
      },
      "source": [
        "<a href=\"https://colab.research.google.com/github/19pa1a0441/dunnala-kartheek/blob/master/UKMG_Trail2.ipynb\" target=\"_parent\"><img src=\"https://colab.research.google.com/assets/colab-badge.svg\" alt=\"Open In Colab\"/></a>"
      ]
    },
    {
      "cell_type": "markdown",
      "metadata": {
        "id": "lNLLbdveoOy0",
        "colab_type": "text"
      },
      "source": [
        "# **Introduction:**\n",
        " The dataset choosen in below gives the information regarding  sucide rates overview from 1985 to 2016 in different nations."
      ]
    },
    {
      "cell_type": "markdown",
      "metadata": {
        "id": "bqBtMMn0rtL6",
        "colab_type": "text"
      },
      "source": [
        "## **variables :** \n",
        "1. **country** - This coloumn consists of nations from which                  we collected the sucide information .\n",
        "2. **year** - The information present in this coloumn is in which year the sucides are took place(1985 -2016).\n",
        "3. **sex**- This coloumn is about gender.(male or female)\n",
        "4. **age**- The age group of people who committed sucides.\n",
        "5. **suscide number** - Number people committed sucide in a  year .\n",
        "6. **population**- Total population of that nation.\n",
        "7.sucides per 100k population - number of sucides took place per 100k people .\n",
        "8.**country-year**- Sucides occured in particular nation in a year \n",
        "9.**HDI for year**- It describes overall achievement of nation in its social and economic dimensions (HDI - human development index )\n",
        "10.**GDP for year** - (Gross domestic product (GDP)) is a monetary measure of the market value of all the final goods and services produced in a year by that nation.\n",
        "GDP per capita - GDP per capita is a measure of a country's economic output That accounts for its number of people .\n",
        "11.**generation** - This coloumn describes about the generation of the sucide committed people ."
      ]
    },
    {
      "cell_type": "markdown",
      "metadata": {
        "id": "EYytNDStgLqv",
        "colab_type": "text"
      },
      "source": [
        ""
      ]
    },
    {
      "cell_type": "code",
      "metadata": {
        "id": "tfdlcAoq7G7w",
        "colab_type": "code",
        "colab": {}
      },
      "source": [
        ""
      ],
      "execution_count": 0,
      "outputs": []
    },
    {
      "cell_type": "markdown",
      "metadata": {
        "id": "hxLmB_ZU7II5",
        "colab_type": "text"
      },
      "source": [
        ""
      ]
    },
    {
      "cell_type": "markdown",
      "metadata": {
        "id": "GWZpTHjg2gBf",
        "colab_type": "text"
      },
      "source": [
        "## **pandas dataframe :**"
      ]
    },
    {
      "cell_type": "code",
      "metadata": {
        "id": "vayLz95b2tuv",
        "colab_type": "code",
        "colab": {}
      },
      "source": [
        "# importing pandas \n",
        "   import pandas as pd\n"
      ],
      "execution_count": 0,
      "outputs": []
    },
    {
      "cell_type": "markdown",
      "metadata": {
        "id": "-7YZ7t953Akv",
        "colab_type": "text"
      },
      "source": [
        "# **Reading data :**"
      ]
    },
    {
      "cell_type": "code",
      "metadata": {
        "id": "LfeqzlKh3SE2",
        "colab_type": "code",
        "outputId": "a6cc616c-62c1-4b3b-807e-697a67b08d6c",
        "colab": {
          "base_uri": "https://localhost:8080/",
          "height": 255
        }
      },
      "source": [
        "# read data from csv file\n",
        "data= pd.read_csv(\"/content/suicide-rates-overview-1985-to-2016 (1).zip\")\n",
        "print(data)"
      ],
      "execution_count": 4,
      "outputs": [
        {
          "output_type": "stream",
          "text": [
            "          country  year  ... gdp_per_capita ($)       generation\n",
            "0         Albania  1987  ...                796     Generation X\n",
            "1         Albania  1987  ...                796           Silent\n",
            "2         Albania  1987  ...                796     Generation X\n",
            "3         Albania  1987  ...                796  G.I. Generation\n",
            "4         Albania  1987  ...                796          Boomers\n",
            "...           ...   ...  ...                ...              ...\n",
            "27815  Uzbekistan  2014  ...               2309     Generation X\n",
            "27816  Uzbekistan  2014  ...               2309           Silent\n",
            "27817  Uzbekistan  2014  ...               2309     Generation Z\n",
            "27818  Uzbekistan  2014  ...               2309     Generation Z\n",
            "27819  Uzbekistan  2014  ...               2309          Boomers\n",
            "\n",
            "[27820 rows x 12 columns]\n"
          ],
          "name": "stdout"
        }
      ]
    },
    {
      "cell_type": "code",
      "metadata": {
        "id": "eVau2Eo_47rY",
        "colab_type": "code",
        "outputId": "49124304-d4d6-4788-9424-a349fd92e702",
        "colab": {
          "base_uri": "https://localhost:8080/",
          "height": 745
        }
      },
      "source": [
        "# cleaning data (by deleting the columns having NAN values)\n",
        "oops=data.dropna(axis=0)\n",
        "oops"
      ],
      "execution_count": 5,
      "outputs": [
        {
          "output_type": "execute_result",
          "data": {
            "text/html": [
              "<div>\n",
              "<style scoped>\n",
              "    .dataframe tbody tr th:only-of-type {\n",
              "        vertical-align: middle;\n",
              "    }\n",
              "\n",
              "    .dataframe tbody tr th {\n",
              "        vertical-align: top;\n",
              "    }\n",
              "\n",
              "    .dataframe thead th {\n",
              "        text-align: right;\n",
              "    }\n",
              "</style>\n",
              "<table border=\"1\" class=\"dataframe\">\n",
              "  <thead>\n",
              "    <tr style=\"text-align: right;\">\n",
              "      <th></th>\n",
              "      <th>country</th>\n",
              "      <th>year</th>\n",
              "      <th>sex</th>\n",
              "      <th>age</th>\n",
              "      <th>suicides_no</th>\n",
              "      <th>population</th>\n",
              "      <th>suicides/100k pop</th>\n",
              "      <th>country-year</th>\n",
              "      <th>HDI for year</th>\n",
              "      <th>gdp_for_year ($)</th>\n",
              "      <th>gdp_per_capita ($)</th>\n",
              "      <th>generation</th>\n",
              "    </tr>\n",
              "  </thead>\n",
              "  <tbody>\n",
              "    <tr>\n",
              "      <th>72</th>\n",
              "      <td>Albania</td>\n",
              "      <td>1995</td>\n",
              "      <td>male</td>\n",
              "      <td>25-34 years</td>\n",
              "      <td>13</td>\n",
              "      <td>232900</td>\n",
              "      <td>5.58</td>\n",
              "      <td>Albania1995</td>\n",
              "      <td>0.619</td>\n",
              "      <td>2,424,499,009</td>\n",
              "      <td>835</td>\n",
              "      <td>Generation X</td>\n",
              "    </tr>\n",
              "    <tr>\n",
              "      <th>73</th>\n",
              "      <td>Albania</td>\n",
              "      <td>1995</td>\n",
              "      <td>male</td>\n",
              "      <td>55-74 years</td>\n",
              "      <td>9</td>\n",
              "      <td>178000</td>\n",
              "      <td>5.06</td>\n",
              "      <td>Albania1995</td>\n",
              "      <td>0.619</td>\n",
              "      <td>2,424,499,009</td>\n",
              "      <td>835</td>\n",
              "      <td>Silent</td>\n",
              "    </tr>\n",
              "    <tr>\n",
              "      <th>74</th>\n",
              "      <td>Albania</td>\n",
              "      <td>1995</td>\n",
              "      <td>female</td>\n",
              "      <td>75+ years</td>\n",
              "      <td>2</td>\n",
              "      <td>40800</td>\n",
              "      <td>4.90</td>\n",
              "      <td>Albania1995</td>\n",
              "      <td>0.619</td>\n",
              "      <td>2,424,499,009</td>\n",
              "      <td>835</td>\n",
              "      <td>G.I. Generation</td>\n",
              "    </tr>\n",
              "    <tr>\n",
              "      <th>75</th>\n",
              "      <td>Albania</td>\n",
              "      <td>1995</td>\n",
              "      <td>female</td>\n",
              "      <td>15-24 years</td>\n",
              "      <td>13</td>\n",
              "      <td>283500</td>\n",
              "      <td>4.59</td>\n",
              "      <td>Albania1995</td>\n",
              "      <td>0.619</td>\n",
              "      <td>2,424,499,009</td>\n",
              "      <td>835</td>\n",
              "      <td>Generation X</td>\n",
              "    </tr>\n",
              "    <tr>\n",
              "      <th>76</th>\n",
              "      <td>Albania</td>\n",
              "      <td>1995</td>\n",
              "      <td>male</td>\n",
              "      <td>15-24 years</td>\n",
              "      <td>11</td>\n",
              "      <td>241200</td>\n",
              "      <td>4.56</td>\n",
              "      <td>Albania1995</td>\n",
              "      <td>0.619</td>\n",
              "      <td>2,424,499,009</td>\n",
              "      <td>835</td>\n",
              "      <td>Generation X</td>\n",
              "    </tr>\n",
              "    <tr>\n",
              "      <th>...</th>\n",
              "      <td>...</td>\n",
              "      <td>...</td>\n",
              "      <td>...</td>\n",
              "      <td>...</td>\n",
              "      <td>...</td>\n",
              "      <td>...</td>\n",
              "      <td>...</td>\n",
              "      <td>...</td>\n",
              "      <td>...</td>\n",
              "      <td>...</td>\n",
              "      <td>...</td>\n",
              "      <td>...</td>\n",
              "    </tr>\n",
              "    <tr>\n",
              "      <th>27815</th>\n",
              "      <td>Uzbekistan</td>\n",
              "      <td>2014</td>\n",
              "      <td>female</td>\n",
              "      <td>35-54 years</td>\n",
              "      <td>107</td>\n",
              "      <td>3620833</td>\n",
              "      <td>2.96</td>\n",
              "      <td>Uzbekistan2014</td>\n",
              "      <td>0.675</td>\n",
              "      <td>63,067,077,179</td>\n",
              "      <td>2309</td>\n",
              "      <td>Generation X</td>\n",
              "    </tr>\n",
              "    <tr>\n",
              "      <th>27816</th>\n",
              "      <td>Uzbekistan</td>\n",
              "      <td>2014</td>\n",
              "      <td>female</td>\n",
              "      <td>75+ years</td>\n",
              "      <td>9</td>\n",
              "      <td>348465</td>\n",
              "      <td>2.58</td>\n",
              "      <td>Uzbekistan2014</td>\n",
              "      <td>0.675</td>\n",
              "      <td>63,067,077,179</td>\n",
              "      <td>2309</td>\n",
              "      <td>Silent</td>\n",
              "    </tr>\n",
              "    <tr>\n",
              "      <th>27817</th>\n",
              "      <td>Uzbekistan</td>\n",
              "      <td>2014</td>\n",
              "      <td>male</td>\n",
              "      <td>5-14 years</td>\n",
              "      <td>60</td>\n",
              "      <td>2762158</td>\n",
              "      <td>2.17</td>\n",
              "      <td>Uzbekistan2014</td>\n",
              "      <td>0.675</td>\n",
              "      <td>63,067,077,179</td>\n",
              "      <td>2309</td>\n",
              "      <td>Generation Z</td>\n",
              "    </tr>\n",
              "    <tr>\n",
              "      <th>27818</th>\n",
              "      <td>Uzbekistan</td>\n",
              "      <td>2014</td>\n",
              "      <td>female</td>\n",
              "      <td>5-14 years</td>\n",
              "      <td>44</td>\n",
              "      <td>2631600</td>\n",
              "      <td>1.67</td>\n",
              "      <td>Uzbekistan2014</td>\n",
              "      <td>0.675</td>\n",
              "      <td>63,067,077,179</td>\n",
              "      <td>2309</td>\n",
              "      <td>Generation Z</td>\n",
              "    </tr>\n",
              "    <tr>\n",
              "      <th>27819</th>\n",
              "      <td>Uzbekistan</td>\n",
              "      <td>2014</td>\n",
              "      <td>female</td>\n",
              "      <td>55-74 years</td>\n",
              "      <td>21</td>\n",
              "      <td>1438935</td>\n",
              "      <td>1.46</td>\n",
              "      <td>Uzbekistan2014</td>\n",
              "      <td>0.675</td>\n",
              "      <td>63,067,077,179</td>\n",
              "      <td>2309</td>\n",
              "      <td>Boomers</td>\n",
              "    </tr>\n",
              "  </tbody>\n",
              "</table>\n",
              "<p>8364 rows × 12 columns</p>\n",
              "</div>"
            ],
            "text/plain": [
              "          country  year  ... gdp_per_capita ($)       generation\n",
              "72        Albania  1995  ...                835     Generation X\n",
              "73        Albania  1995  ...                835           Silent\n",
              "74        Albania  1995  ...                835  G.I. Generation\n",
              "75        Albania  1995  ...                835     Generation X\n",
              "76        Albania  1995  ...                835     Generation X\n",
              "...           ...   ...  ...                ...              ...\n",
              "27815  Uzbekistan  2014  ...               2309     Generation X\n",
              "27816  Uzbekistan  2014  ...               2309           Silent\n",
              "27817  Uzbekistan  2014  ...               2309     Generation Z\n",
              "27818  Uzbekistan  2014  ...               2309     Generation Z\n",
              "27819  Uzbekistan  2014  ...               2309          Boomers\n",
              "\n",
              "[8364 rows x 12 columns]"
            ]
          },
          "metadata": {
            "tags": []
          },
          "execution_count": 5
        }
      ]
    },
    {
      "cell_type": "markdown",
      "metadata": {
        "id": "D7FoT4Rb7xwW",
        "colab_type": "text"
      },
      "source": [
        "# **checking data dimensions :**"
      ]
    },
    {
      "cell_type": "code",
      "metadata": {
        "id": "O4R6Ewyd7-Eo",
        "colab_type": "code",
        "outputId": "e29b5e09-469a-4965-fa27-ca2a8f82d767",
        "colab": {
          "base_uri": "https://localhost:8080/",
          "height": 34
        }
      },
      "source": [
        "# using shape method on data frame \n",
        "print(oops.shape)"
      ],
      "execution_count": 0,
      "outputs": [
        {
          "output_type": "stream",
          "text": [
            "(27820, 11)\n"
          ],
          "name": "stdout"
        }
      ]
    },
    {
      "cell_type": "markdown",
      "metadata": {
        "id": "NpPYo9XF8ejL",
        "colab_type": "text"
      },
      "source": [
        "#**Data inspection** :\n"
      ]
    },
    {
      "cell_type": "code",
      "metadata": {
        "id": "Z4nuzUpi9McA",
        "colab_type": "code",
        "outputId": "368d9082-96e0-4e49-aaa1-78edb02597a3",
        "colab": {
          "base_uri": "https://localhost:8080/",
          "height": 153
        }
      },
      "source": [
        "#getting top 5 rows using head method\n",
        "print(oops.head(5))"
      ],
      "execution_count": 0,
      "outputs": [
        {
          "output_type": "stream",
          "text": [
            "    country  year  ... gdp_per_capita ($)       generation\n",
            "72  Albania  1995  ...                835     Generation X\n",
            "73  Albania  1995  ...                835           Silent\n",
            "74  Albania  1995  ...                835  G.I. Generation\n",
            "75  Albania  1995  ...                835     Generation X\n",
            "76  Albania  1995  ...                835     Generation X\n",
            "\n",
            "[5 rows x 12 columns]\n"
          ],
          "name": "stdout"
        }
      ]
    },
    {
      "cell_type": "code",
      "metadata": {
        "id": "UEd_aB3A9hMf",
        "colab_type": "code",
        "outputId": "a6745b76-3b77-4325-e341-7f88132fb705",
        "colab": {
          "base_uri": "https://localhost:8080/",
          "height": 360
        }
      },
      "source": [
        "# getting last 5 rows using tail method \n",
        "oops.tail(5)"
      ],
      "execution_count": 0,
      "outputs": [
        {
          "output_type": "execute_result",
          "data": {
            "text/html": [
              "<div>\n",
              "<style scoped>\n",
              "    .dataframe tbody tr th:only-of-type {\n",
              "        vertical-align: middle;\n",
              "    }\n",
              "\n",
              "    .dataframe tbody tr th {\n",
              "        vertical-align: top;\n",
              "    }\n",
              "\n",
              "    .dataframe thead th {\n",
              "        text-align: right;\n",
              "    }\n",
              "</style>\n",
              "<table border=\"1\" class=\"dataframe\">\n",
              "  <thead>\n",
              "    <tr style=\"text-align: right;\">\n",
              "      <th></th>\n",
              "      <th>country</th>\n",
              "      <th>year</th>\n",
              "      <th>sex</th>\n",
              "      <th>age</th>\n",
              "      <th>suicides_no</th>\n",
              "      <th>population</th>\n",
              "      <th>suicides/100k pop</th>\n",
              "      <th>country-year</th>\n",
              "      <th>gdp_for_year ($)</th>\n",
              "      <th>gdp_per_capita ($)</th>\n",
              "      <th>generation</th>\n",
              "    </tr>\n",
              "  </thead>\n",
              "  <tbody>\n",
              "    <tr>\n",
              "      <th>27815</th>\n",
              "      <td>Uzbekistan</td>\n",
              "      <td>2014</td>\n",
              "      <td>female</td>\n",
              "      <td>35-54 years</td>\n",
              "      <td>107</td>\n",
              "      <td>3620833</td>\n",
              "      <td>2.96</td>\n",
              "      <td>Uzbekistan2014</td>\n",
              "      <td>63,067,077,179</td>\n",
              "      <td>2309</td>\n",
              "      <td>Generation X</td>\n",
              "    </tr>\n",
              "    <tr>\n",
              "      <th>27816</th>\n",
              "      <td>Uzbekistan</td>\n",
              "      <td>2014</td>\n",
              "      <td>female</td>\n",
              "      <td>75+ years</td>\n",
              "      <td>9</td>\n",
              "      <td>348465</td>\n",
              "      <td>2.58</td>\n",
              "      <td>Uzbekistan2014</td>\n",
              "      <td>63,067,077,179</td>\n",
              "      <td>2309</td>\n",
              "      <td>Silent</td>\n",
              "    </tr>\n",
              "    <tr>\n",
              "      <th>27817</th>\n",
              "      <td>Uzbekistan</td>\n",
              "      <td>2014</td>\n",
              "      <td>male</td>\n",
              "      <td>5-14 years</td>\n",
              "      <td>60</td>\n",
              "      <td>2762158</td>\n",
              "      <td>2.17</td>\n",
              "      <td>Uzbekistan2014</td>\n",
              "      <td>63,067,077,179</td>\n",
              "      <td>2309</td>\n",
              "      <td>Generation Z</td>\n",
              "    </tr>\n",
              "    <tr>\n",
              "      <th>27818</th>\n",
              "      <td>Uzbekistan</td>\n",
              "      <td>2014</td>\n",
              "      <td>female</td>\n",
              "      <td>5-14 years</td>\n",
              "      <td>44</td>\n",
              "      <td>2631600</td>\n",
              "      <td>1.67</td>\n",
              "      <td>Uzbekistan2014</td>\n",
              "      <td>63,067,077,179</td>\n",
              "      <td>2309</td>\n",
              "      <td>Generation Z</td>\n",
              "    </tr>\n",
              "    <tr>\n",
              "      <th>27819</th>\n",
              "      <td>Uzbekistan</td>\n",
              "      <td>2014</td>\n",
              "      <td>female</td>\n",
              "      <td>55-74 years</td>\n",
              "      <td>21</td>\n",
              "      <td>1438935</td>\n",
              "      <td>1.46</td>\n",
              "      <td>Uzbekistan2014</td>\n",
              "      <td>63,067,077,179</td>\n",
              "      <td>2309</td>\n",
              "      <td>Boomers</td>\n",
              "    </tr>\n",
              "  </tbody>\n",
              "</table>\n",
              "</div>"
            ],
            "text/plain": [
              "          country  year  ... gdp_per_capita ($)    generation\n",
              "27815  Uzbekistan  2014  ...               2309  Generation X\n",
              "27816  Uzbekistan  2014  ...               2309        Silent\n",
              "27817  Uzbekistan  2014  ...               2309  Generation Z\n",
              "27818  Uzbekistan  2014  ...               2309  Generation Z\n",
              "27819  Uzbekistan  2014  ...               2309       Boomers\n",
              "\n",
              "[5 rows x 11 columns]"
            ]
          },
          "metadata": {
            "tags": []
          },
          "execution_count": 9
        }
      ]
    },
    {
      "cell_type": "code",
      "metadata": {
        "id": "-1CgOdjH--nl",
        "colab_type": "code",
        "outputId": "1eb56fa4-d219-46e9-d4d5-fb722981391f",
        "colab": {
          "base_uri": "https://localhost:8080/",
          "height": 221
        }
      },
      "source": [
        "# data type of each coloumn\n",
        "print(oops.dtypes)"
      ],
      "execution_count": 0,
      "outputs": [
        {
          "output_type": "stream",
          "text": [
            "country                object\n",
            "year                    int64\n",
            "sex                    object\n",
            "age                    object\n",
            "suicides_no             int64\n",
            "population              int64\n",
            "suicides/100k pop     float64\n",
            "country-year           object\n",
            " gdp_for_year ($)      object\n",
            "gdp_per_capita ($)      int64\n",
            "generation             object\n",
            "dtype: object\n"
          ],
          "name": "stdout"
        }
      ]
    },
    {
      "cell_type": "code",
      "metadata": {
        "id": "hsT7af-S_JTo",
        "colab_type": "code",
        "outputId": "1fa2266c-23d7-477b-eac4-cbd4e906c2f7",
        "colab": {
          "base_uri": "https://localhost:8080/",
          "height": 85
        }
      },
      "source": [
        "# accessing  column names\n",
        "print(data.columns)"
      ],
      "execution_count": 0,
      "outputs": [
        {
          "output_type": "stream",
          "text": [
            "Index(['country', 'year', 'sex', 'age', 'suicides_no', 'population',\n",
            "       'suicides/100k pop', 'country-year', 'HDI for year',\n",
            "       ' gdp_for_year ($) ', 'gdp_per_capita ($)', 'generation'],\n",
            "      dtype='object')\n"
          ],
          "name": "stdout"
        }
      ]
    },
    {
      "cell_type": "code",
      "metadata": {
        "id": "sq1GOlVptbDl",
        "colab_type": "code",
        "outputId": "4affdb17-0e79-4b22-e506-916faee13bf8",
        "colab": {
          "base_uri": "https://localhost:8080/",
          "height": 295
        }
      },
      "source": [
        "oops.plot(x=\"year\", y='population',kind=\"hist\")"
      ],
      "execution_count": 0,
      "outputs": [
        {
          "output_type": "execute_result",
          "data": {
            "text/plain": [
              "<matplotlib.axes._subplots.AxesSubplot at 0x7fc36504dba8>"
            ]
          },
          "metadata": {
            "tags": []
          },
          "execution_count": 13
        },
        {
          "output_type": "display_data",
          "data": {
            "image/png": "[encoded data removed]",
            "text/plain": [
              "<Figure size 432x288 with 1 Axes>"
            ]
          },
          "metadata": {
            "tags": []
          }
        }
      ]
    },
    {
      "cell_type": "markdown",
      "metadata": {
        "id": "b8daQ827i3OU",
        "colab_type": "text"
      },
      "source": [
        "*The above chart shows that the distribution is right skewed(positive), and there are extreme values areat the right of the histogram.*"
      ]
    },
    {
      "cell_type": "markdown",
      "metadata": {
        "id": "i029_MrqxUJL",
        "colab_type": "text"
      },
      "source": [
        "# **Central tendency :**"
      ]
    },
    {
      "cell_type": "code",
      "metadata": {
        "id": "6E2tbtlVuejl",
        "colab_type": "code",
        "outputId": "6664551f-5afb-4a42-bb4a-583ba3474eec",
        "colab": {
          "base_uri": "https://localhost:8080/",
          "height": 136
        }
      },
      "source": [
        "# finding median of  numerical columns \n",
        "oops.median()"
      ],
      "execution_count": 0,
      "outputs": [
        {
          "output_type": "execute_result",
          "data": {
            "text/plain": [
              "year                    2010.000\n",
              "suicides_no               27.000\n",
              "population            472250.500\n",
              "suicides/100k pop          5.720\n",
              "HDI for year               0.779\n",
              "gdp_per_capita ($)     12584.000\n",
              "dtype: float64"
            ]
          },
          "metadata": {
            "tags": []
          },
          "execution_count": 20
        }
      ]
    },
    {
      "cell_type": "code",
      "metadata": {
        "id": "VWfL7YYixo4J",
        "colab_type": "code",
        "outputId": "32e8d4f3-85bd-4b66-a3b0-59c327c7868e",
        "colab": {
          "base_uri": "https://localhost:8080/",
          "height": 136
        }
      },
      "source": [
        "#  finding mean of numerical columns\n",
        "oops.mean()"
      ],
      "execution_count": 0,
      "outputs": [
        {
          "output_type": "execute_result",
          "data": {
            "text/plain": [
              "year                  2.005349e+03\n",
              "suicides_no           2.061243e+02\n",
              "population            1.852173e+06\n",
              "suicides/100k pop     1.199194e+01\n",
              "HDI for year          7.766011e-01\n",
              "gdp_per_capita ($)    2.107437e+04\n",
              "dtype: float64"
            ]
          },
          "metadata": {
            "tags": []
          },
          "execution_count": 21
        }
      ]
    },
    {
      "cell_type": "code",
      "metadata": {
        "id": "bJOxmvdzyMSk",
        "colab_type": "code",
        "outputId": "b90c2b66-c059-4a4a-b570-47910e3b849d",
        "colab": {
          "base_uri": "https://localhost:8080/",
          "height": 626
        }
      },
      "source": [
        "# finding mode \n",
        "oops.mode()"
      ],
      "execution_count": 0,
      "outputs": [
        {
          "output_type": "execute_result",
          "data": {
            "text/html": [
              "<div>\n",
              "<style scoped>\n",
              "    .dataframe tbody tr th:only-of-type {\n",
              "        vertical-align: middle;\n",
              "    }\n",
              "\n",
              "    .dataframe tbody tr th {\n",
              "        vertical-align: top;\n",
              "    }\n",
              "\n",
              "    .dataframe thead th {\n",
              "        text-align: right;\n",
              "    }\n",
              "</style>\n",
              "<table border=\"1\" class=\"dataframe\">\n",
              "  <thead>\n",
              "    <tr style=\"text-align: right;\">\n",
              "      <th></th>\n",
              "      <th>country</th>\n",
              "      <th>year</th>\n",
              "      <th>sex</th>\n",
              "      <th>age</th>\n",
              "      <th>suicides_no</th>\n",
              "      <th>population</th>\n",
              "      <th>suicides/100k pop</th>\n",
              "      <th>country-year</th>\n",
              "      <th>HDI for year</th>\n",
              "      <th>gdp_for_year ($)</th>\n",
              "      <th>gdp_per_capita ($)</th>\n",
              "      <th>generation</th>\n",
              "    </tr>\n",
              "  </thead>\n",
              "  <tbody>\n",
              "    <tr>\n",
              "      <th>0</th>\n",
              "      <td>Argentina</td>\n",
              "      <td>2010.0</td>\n",
              "      <td>female</td>\n",
              "      <td>15-24 years</td>\n",
              "      <td>0.0</td>\n",
              "      <td>22000.0</td>\n",
              "      <td>0.0</td>\n",
              "      <td>Albania1995</td>\n",
              "      <td>0.713</td>\n",
              "      <td>1,057,801,282,051</td>\n",
              "      <td>996.0</td>\n",
              "      <td>Generation X</td>\n",
              "    </tr>\n",
              "    <tr>\n",
              "      <th>1</th>\n",
              "      <td>Austria</td>\n",
              "      <td>NaN</td>\n",
              "      <td>male</td>\n",
              "      <td>25-34 years</td>\n",
              "      <td>NaN</td>\n",
              "      <td>24000.0</td>\n",
              "      <td>NaN</td>\n",
              "      <td>Albania2000</td>\n",
              "      <td>0.772</td>\n",
              "      <td>1,059,498,884</td>\n",
              "      <td>4096.0</td>\n",
              "      <td>NaN</td>\n",
              "    </tr>\n",
              "    <tr>\n",
              "      <th>2</th>\n",
              "      <td>Belgium</td>\n",
              "      <td>NaN</td>\n",
              "      <td>NaN</td>\n",
              "      <td>35-54 years</td>\n",
              "      <td>NaN</td>\n",
              "      <td>NaN</td>\n",
              "      <td>NaN</td>\n",
              "      <td>Albania2005</td>\n",
              "      <td>0.888</td>\n",
              "      <td>1,065,826,670</td>\n",
              "      <td>4505.0</td>\n",
              "      <td>NaN</td>\n",
              "    </tr>\n",
              "    <tr>\n",
              "      <th>3</th>\n",
              "      <td>Brazil</td>\n",
              "      <td>NaN</td>\n",
              "      <td>NaN</td>\n",
              "      <td>5-14 years</td>\n",
              "      <td>NaN</td>\n",
              "      <td>NaN</td>\n",
              "      <td>NaN</td>\n",
              "      <td>Albania2010</td>\n",
              "      <td>NaN</td>\n",
              "      <td>1,080,642,033</td>\n",
              "      <td>6662.0</td>\n",
              "      <td>NaN</td>\n",
              "    </tr>\n",
              "    <tr>\n",
              "      <th>4</th>\n",
              "      <td>Bulgaria</td>\n",
              "      <td>NaN</td>\n",
              "      <td>NaN</td>\n",
              "      <td>55-74 years</td>\n",
              "      <td>NaN</td>\n",
              "      <td>NaN</td>\n",
              "      <td>NaN</td>\n",
              "      <td>Antigua and Barbuda2012</td>\n",
              "      <td>NaN</td>\n",
              "      <td>1,093,169,389,205</td>\n",
              "      <td>8906.0</td>\n",
              "      <td>NaN</td>\n",
              "    </tr>\n",
              "    <tr>\n",
              "      <th>...</th>\n",
              "      <td>...</td>\n",
              "      <td>...</td>\n",
              "      <td>...</td>\n",
              "      <td>...</td>\n",
              "      <td>...</td>\n",
              "      <td>...</td>\n",
              "      <td>...</td>\n",
              "      <td>...</td>\n",
              "      <td>...</td>\n",
              "      <td>...</td>\n",
              "      <td>...</td>\n",
              "      <td>...</td>\n",
              "    </tr>\n",
              "    <tr>\n",
              "      <th>692</th>\n",
              "      <td>NaN</td>\n",
              "      <td>NaN</td>\n",
              "      <td>NaN</td>\n",
              "      <td>NaN</td>\n",
              "      <td>NaN</td>\n",
              "      <td>NaN</td>\n",
              "      <td>NaN</td>\n",
              "      <td>Uzbekistan2010</td>\n",
              "      <td>NaN</td>\n",
              "      <td>97,891,090,929</td>\n",
              "      <td>NaN</td>\n",
              "      <td>NaN</td>\n",
              "    </tr>\n",
              "    <tr>\n",
              "      <th>693</th>\n",
              "      <td>NaN</td>\n",
              "      <td>NaN</td>\n",
              "      <td>NaN</td>\n",
              "      <td>NaN</td>\n",
              "      <td>NaN</td>\n",
              "      <td>NaN</td>\n",
              "      <td>NaN</td>\n",
              "      <td>Uzbekistan2011</td>\n",
              "      <td>NaN</td>\n",
              "      <td>98,478,349,315</td>\n",
              "      <td>NaN</td>\n",
              "      <td>NaN</td>\n",
              "    </tr>\n",
              "    <tr>\n",
              "      <th>694</th>\n",
              "      <td>NaN</td>\n",
              "      <td>NaN</td>\n",
              "      <td>NaN</td>\n",
              "      <td>NaN</td>\n",
              "      <td>NaN</td>\n",
              "      <td>NaN</td>\n",
              "      <td>NaN</td>\n",
              "      <td>Uzbekistan2012</td>\n",
              "      <td>NaN</td>\n",
              "      <td>99,697,566,668</td>\n",
              "      <td>NaN</td>\n",
              "      <td>NaN</td>\n",
              "    </tr>\n",
              "    <tr>\n",
              "      <th>695</th>\n",
              "      <td>NaN</td>\n",
              "      <td>NaN</td>\n",
              "      <td>NaN</td>\n",
              "      <td>NaN</td>\n",
              "      <td>NaN</td>\n",
              "      <td>NaN</td>\n",
              "      <td>NaN</td>\n",
              "      <td>Uzbekistan2013</td>\n",
              "      <td>NaN</td>\n",
              "      <td>99,853,528,653</td>\n",
              "      <td>NaN</td>\n",
              "      <td>NaN</td>\n",
              "    </tr>\n",
              "    <tr>\n",
              "      <th>696</th>\n",
              "      <td>NaN</td>\n",
              "      <td>NaN</td>\n",
              "      <td>NaN</td>\n",
              "      <td>NaN</td>\n",
              "      <td>NaN</td>\n",
              "      <td>NaN</td>\n",
              "      <td>NaN</td>\n",
              "      <td>Uzbekistan2014</td>\n",
              "      <td>NaN</td>\n",
              "      <td>99,886,577,331</td>\n",
              "      <td>NaN</td>\n",
              "      <td>NaN</td>\n",
              "    </tr>\n",
              "  </tbody>\n",
              "</table>\n",
              "<p>697 rows × 12 columns</p>\n",
              "</div>"
            ],
            "text/plain": [
              "       country    year  ... gdp_per_capita ($)    generation\n",
              "0    Argentina  2010.0  ...              996.0  Generation X\n",
              "1      Austria     NaN  ...             4096.0           NaN\n",
              "2      Belgium     NaN  ...             4505.0           NaN\n",
              "3       Brazil     NaN  ...             6662.0           NaN\n",
              "4     Bulgaria     NaN  ...             8906.0           NaN\n",
              "..         ...     ...  ...                ...           ...\n",
              "692        NaN     NaN  ...                NaN           NaN\n",
              "693        NaN     NaN  ...                NaN           NaN\n",
              "694        NaN     NaN  ...                NaN           NaN\n",
              "695        NaN     NaN  ...                NaN           NaN\n",
              "696        NaN     NaN  ...                NaN           NaN\n",
              "\n",
              "[697 rows x 12 columns]"
            ]
          },
          "metadata": {
            "tags": []
          },
          "execution_count": 22
        }
      ]
    },
    {
      "cell_type": "markdown",
      "metadata": {
        "id": "GOl0s4cOy3s8",
        "colab_type": "text"
      },
      "source": [
        "## **variability :**"
      ]
    },
    {
      "cell_type": "code",
      "metadata": {
        "id": "clyIX8ldzDfs",
        "colab_type": "code",
        "outputId": "9234fda5-b4a7-4aad-bb28-3d383cdec540",
        "colab": {
          "base_uri": "https://localhost:8080/",
          "height": 136
        }
      },
      "source": [
        "# finding variance \n",
        "oops.var()"
      ],
      "execution_count": 0,
      "outputs": [
        {
          "output_type": "execute_result",
          "data": {
            "text/plain": [
              "year                  7.749317e+01\n",
              "suicides_no           4.637671e+05\n",
              "population            1.575894e+13\n",
              "suicides/100k pop     3.014311e+02\n",
              "HDI for year          8.717342e-03\n",
              "gdp_per_capita ($)    5.098197e+08\n",
              "dtype: float64"
            ]
          },
          "metadata": {
            "tags": []
          },
          "execution_count": 23
        }
      ]
    },
    {
      "cell_type": "code",
      "metadata": {
        "id": "Yj56cQd0zPsM",
        "colab_type": "code",
        "outputId": "2ebf2e52-1bbd-4495-8872-3c23acbc6a25",
        "colab": {
          "base_uri": "https://localhost:8080/",
          "height": 136
        }
      },
      "source": [
        "# finding standard deviation\n",
        "oops.std()"
      ],
      "execution_count": 0,
      "outputs": [
        {
          "output_type": "execute_result",
          "data": {
            "text/plain": [
              "year                  8.803020e+00\n",
              "suicides_no           6.810045e+02\n",
              "population            3.969754e+06\n",
              "suicides/100k pop     1.736177e+01\n",
              "HDI for year          9.336671e-02\n",
              "gdp_per_capita ($)    2.257919e+04\n",
              "dtype: float64"
            ]
          },
          "metadata": {
            "tags": []
          },
          "execution_count": 24
        }
      ]
    },
    {
      "cell_type": "code",
      "metadata": {
        "id": "zj7LNICf5M8I",
        "colab_type": "code",
        "colab": {
          "base_uri": "https://localhost:8080/",
          "height": 319
        },
        "outputId": "70bf665d-d061-4543-90c0-ce16aa308aaf"
      },
      "source": [
        "oops.plot.bar(x=\"suicides_no\",y=\"year\")"
      ],
      "execution_count": 9,
      "outputs": [
        {
          "output_type": "execute_result",
          "data": {
            "text/plain": [
              "<matplotlib.axes._subplots.AxesSubplot at 0x7f6cc8432b38>"
            ]
          },
          "metadata": {
            "tags": []
          },
          "execution_count": 9
        },
        {
          "output_type": "display_data",
          "data": {
            "image/png": "[encoded data removed]",
            "text/plain": [
              "<Figure size 432x288 with 1 Axes>"
            ]
          },
          "metadata": {
            "tags": []
          }
        }
      ]
    }
  ]
}